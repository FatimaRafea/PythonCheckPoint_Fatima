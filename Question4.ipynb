{
 "cells": [
  {
   "cell_type": "code",
   "execution_count": 6,
   "id": "7fa16f49",
   "metadata": {},
   "outputs": [
    {
     "name": "stdout",
     "output_type": "stream",
     "text": [
      "Original string: Kitten\n",
      "String after removal of character: Kittn\n"
     ]
    }
   ],
   "source": [
    "str = \"Kitten\"\n",
    "   \n",
    " \n",
    "print (\"Original string: \" + str) \n",
    "   \n",
    "# Removing char at pos 3 \n",
    "# using slice + concatenation \n",
    "res_str = str[:4] +  str[5:] \n",
    "   \n",
    " \n",
    "print (\"String after removal of character: \" + res_str) "
   ]
  },
  {
   "cell_type": "code",
   "execution_count": null,
   "id": "5a8fe674",
   "metadata": {},
   "outputs": [],
   "source": []
  }
 ],
 "metadata": {
  "kernelspec": {
   "display_name": "Python 3",
   "language": "python",
   "name": "python3"
  },
  "language_info": {
   "codemirror_mode": {
    "name": "ipython",
    "version": 3
   },
   "file_extension": ".py",
   "mimetype": "text/x-python",
   "name": "python",
   "nbconvert_exporter": "python",
   "pygments_lexer": "ipython3",
   "version": "3.8.8"
  }
 },
 "nbformat": 4,
 "nbformat_minor": 5
}
